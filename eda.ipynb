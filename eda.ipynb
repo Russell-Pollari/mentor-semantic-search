{
 "cells": [
  {
   "cell_type": "code",
   "execution_count": 1,
   "metadata": {},
   "outputs": [
    {
     "name": "stderr",
     "output_type": "stream",
     "text": [
      "/home/russell/projects/sm-semantic-search/venv/lib/python3.8/site-packages/tqdm/auto.py:21: TqdmWarning: IProgress not found. Please update jupyter and ipywidgets. See https://ipywidgets.readthedocs.io/en/stable/user_install.html\n",
      "  from .autonotebook import tqdm as notebook_tqdm\n"
     ]
    }
   ],
   "source": [
    "from create_embeddings import get_mentor_embeddings, create_mentor_embeddings, get_mentor_sentences\n",
    "from query_embeddings import query_mentor_embeddings"
   ]
  },
  {
   "cell_type": "code",
   "execution_count": 2,
   "metadata": {},
   "outputs": [
    {
     "name": "stderr",
     "output_type": "stream",
     "text": [
      "Using embedded DuckDB with persistence: data will be stored in: data\n"
     ]
    }
   ],
   "source": [
    "sentences = get_mentor_sentences('data/mentors.json') # Get sentences from data/mentors.json\n",
    "collection = create_mentor_embeddings(sentences) # Create embeddings from sentences"
   ]
  },
  {
   "cell_type": "code",
   "execution_count": 4,
   "metadata": {},
   "outputs": [],
   "source": [
    "result = query_mentor_embeddings(\"experience in fintech and healthcare\", collection, 10)"
   ]
  },
  {
   "cell_type": "code",
   "execution_count": 7,
   "metadata": {},
   "outputs": [
    {
     "name": "stdout",
     "output_type": "stream",
     "text": [
      "{'ids': [['5L9jgQh39bksMDxff_domain0', 'egMA7PCCWTdT9RwLL_domain0', 'pdwyhrnTCn5q4FHRu_domain0', 'nnwmi8sYCQA2DTdpC_domain0', 'hy6K5hjjeSrbpHyQX_domain0', 'tAwe5SLcRTKKEqovW_domain0', '8G3HfrzjveuAPZXGJ_domain0', 'e7XvephYenvd4Cgt6_domain0', 'FjcfhfaxPSD4qfnv8_domain0', 'HHakie5Lo97P8224k_domain1']], 'embeddings': None, 'documents': [['I have domain experience in Healthcare', 'I have domain experience in Healthcare', 'I have domain experience in Healthcare', 'I have domain experience in Healthcare', 'I have domain experience in Healthcare', 'I have domain experience in Healthcare', 'I have domain experience in Healthcare', 'I have domain experience in Healthcare', 'I have domain experience in Healthcare', 'I have domain experience in Healthcare']], 'metadatas': [[{'_id': '5L9jgQh39bksMDxff', 'field': 'domainFeatures'}, {'_id': 'egMA7PCCWTdT9RwLL', 'field': 'domainFeatures'}, {'_id': 'pdwyhrnTCn5q4FHRu', 'field': 'domainFeatures'}, {'_id': 'nnwmi8sYCQA2DTdpC', 'field': 'domainFeatures'}, {'_id': 'hy6K5hjjeSrbpHyQX', 'field': 'domainFeatures'}, {'_id': 'tAwe5SLcRTKKEqovW', 'field': 'domainFeatures'}, {'_id': '8G3HfrzjveuAPZXGJ', 'field': 'domainFeatures'}, {'_id': 'e7XvephYenvd4Cgt6', 'field': 'domainFeatures'}, {'_id': 'FjcfhfaxPSD4qfnv8', 'field': 'domainFeatures'}, {'_id': 'HHakie5Lo97P8224k', 'field': 'domainFeatures'}]], 'distances': [[0.9737997055053711, 0.9737997055053711, 0.9737997055053711, 0.9737997055053711, 0.9737997055053711, 0.9737997055053711, 0.9737997055053711, 0.9737997055053711, 0.9737997055053711, 0.9737997055053711]]}\n"
     ]
    }
   ],
   "source": [
    "print(result)"
   ]
  }
 ],
 "metadata": {
  "kernelspec": {
   "display_name": "venv",
   "language": "python",
   "name": "python3"
  },
  "language_info": {
   "codemirror_mode": {
    "name": "ipython",
    "version": 3
   },
   "file_extension": ".py",
   "mimetype": "text/x-python",
   "name": "python",
   "nbconvert_exporter": "python",
   "pygments_lexer": "ipython3",
   "version": "3.8.10"
  },
  "orig_nbformat": 4
 },
 "nbformat": 4,
 "nbformat_minor": 2
}
